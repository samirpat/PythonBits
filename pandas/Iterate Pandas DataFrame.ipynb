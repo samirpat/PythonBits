{
 "cells": [
  {
   "cell_type": "code",
   "execution_count": 1,
   "metadata": {
    "ExecuteTime": {
     "end_time": "2019-07-27T02:46:16.386839Z",
     "start_time": "2019-07-27T02:46:15.621146Z"
    }
   },
   "outputs": [],
   "source": [
    "from __future__ import print_function, division\n",
    "import pandas as pd"
   ]
  },
  {
   "cell_type": "code",
   "execution_count": 16,
   "metadata": {
    "ExecuteTime": {
     "end_time": "2019-07-27T03:07:05.160050Z",
     "start_time": "2019-07-27T03:07:05.034497Z"
    }
   },
   "outputs": [
    {
     "name": "stdout",
     "output_type": "stream",
     "text": [
      "Python 3.6.5 :: Anaconda, Inc.\r\n"
     ]
    }
   ],
   "source": [
    "!python --version"
   ]
  },
  {
   "cell_type": "code",
   "execution_count": 17,
   "metadata": {
    "ExecuteTime": {
     "end_time": "2019-07-27T03:07:56.872225Z",
     "start_time": "2019-07-27T03:07:56.868176Z"
    }
   },
   "outputs": [
    {
     "name": "stdout",
     "output_type": "stream",
     "text": [
      "0.23.0\n"
     ]
    }
   ],
   "source": [
    "print(pd.__version__)"
   ]
  },
  {
   "cell_type": "code",
   "execution_count": 2,
   "metadata": {
    "ExecuteTime": {
     "end_time": "2019-07-27T02:47:13.292489Z",
     "start_time": "2019-07-27T02:47:13.258678Z"
    }
   },
   "outputs": [],
   "source": [
    "mpg = pd.read_csv('dataset/milesPerGallon.csv')"
   ]
  },
  {
   "cell_type": "code",
   "execution_count": 3,
   "metadata": {
    "ExecuteTime": {
     "end_time": "2019-07-27T02:47:28.892436Z",
     "start_time": "2019-07-27T02:47:28.882893Z"
    }
   },
   "outputs": [
    {
     "name": "stdout",
     "output_type": "stream",
     "text": [
      "    mpg  cyl  displ   hp  weight  accel  yr origin                       name\n",
      "0  18.0    8  307.0  130    3504   12.0  70     US  chevrolet chevelle malibu\n",
      "1  15.0    8  350.0  165    3693   11.5  70     US          buick skylark 320\n",
      "2  18.0    8  318.0  150    3436   11.0  70     US         plymouth satellite\n",
      "3  16.0    8  304.0  150    3433   12.0  70     US              amc rebel sst\n",
      "4  17.0    8  302.0  140    3449   10.5  70     US                ford torino\n"
     ]
    }
   ],
   "source": [
    "print(mpg.head())"
   ]
  },
  {
   "cell_type": "markdown",
   "metadata": {},
   "source": [
    "when we try to iterate over pandas dataframe, it will iterate over just column names."
   ]
  },
  {
   "cell_type": "code",
   "execution_count": 4,
   "metadata": {
    "ExecuteTime": {
     "end_time": "2019-07-27T02:51:01.629596Z",
     "start_time": "2019-07-27T02:51:01.621809Z"
    }
   },
   "outputs": [
    {
     "name": "stdout",
     "output_type": "stream",
     "text": [
      "mpg\n",
      "cyl\n",
      "displ\n",
      "hp\n",
      "weight\n",
      "accel\n",
      "yr\n",
      "origin\n",
      "name\n"
     ]
    }
   ],
   "source": [
    "for item in mpg:\n",
    "    print(item)"
   ]
  },
  {
   "cell_type": "markdown",
   "metadata": {},
   "source": [
    "To iterate over rows, we need to mention that we need to iterate over rows. we do this by calling dataframes' iterrows method and print row labels and row data where row is entire pandas data series."
   ]
  },
  {
   "cell_type": "code",
   "execution_count": 5,
   "metadata": {
    "ExecuteTime": {
     "end_time": "2019-07-27T02:54:05.395735Z",
     "start_time": "2019-07-27T02:54:05.359561Z"
    }
   },
   "outputs": [
    {
     "name": "stdout",
     "output_type": "stream",
     "text": [
      "0\n",
      "mpg                              18\n",
      "cyl                               8\n",
      "displ                           307\n",
      "hp                              130\n",
      "weight                         3504\n",
      "accel                            12\n",
      "yr                               70\n",
      "origin                           US\n",
      "name      chevrolet chevelle malibu\n",
      "Name: 0, dtype: object\n",
      "1\n",
      "mpg                      15\n",
      "cyl                       8\n",
      "displ                   350\n",
      "hp                      165\n",
      "weight                 3693\n",
      "accel                  11.5\n",
      "yr                       70\n",
      "origin                   US\n",
      "name      buick skylark 320\n",
      "Name: 1, dtype: object\n",
      "2\n",
      "mpg                       18\n",
      "cyl                        8\n",
      "displ                    318\n",
      "hp                       150\n",
      "weight                  3436\n",
      "accel                     11\n",
      "yr                        70\n",
      "origin                    US\n",
      "name      plymouth satellite\n",
      "Name: 2, dtype: object\n",
      "3\n",
      "mpg                  16\n",
      "cyl                   8\n",
      "displ               304\n",
      "hp                  150\n",
      "weight             3433\n",
      "accel                12\n",
      "yr                   70\n",
      "origin               US\n",
      "name      amc rebel sst\n",
      "Name: 3, dtype: object\n",
      "4\n",
      "mpg                17\n",
      "cyl                 8\n",
      "displ             302\n",
      "hp                140\n",
      "weight           3449\n",
      "accel            10.5\n",
      "yr                 70\n",
      "origin             US\n",
      "name      ford torino\n",
      "Name: 4, dtype: object\n",
      "5\n",
      "mpg                     15\n",
      "cyl                      8\n",
      "displ                  429\n",
      "hp                     198\n",
      "weight                4341\n",
      "accel                   10\n",
      "yr                      70\n",
      "origin                  US\n",
      "name      ford galaxie 500\n",
      "Name: 5, dtype: object\n",
      "6\n",
      "mpg                     14\n",
      "cyl                      8\n",
      "displ                  454\n",
      "hp                     220\n",
      "weight                4354\n",
      "accel                    9\n",
      "yr                      70\n",
      "origin                  US\n",
      "name      chevrolet impala\n",
      "Name: 6, dtype: object\n",
      "7\n",
      "mpg                      14\n",
      "cyl                       8\n",
      "displ                   440\n",
      "hp                      215\n",
      "weight                 4312\n",
      "accel                   8.5\n",
      "yr                       70\n",
      "origin                   US\n",
      "name      plymouth fury iii\n",
      "Name: 7, dtype: object\n",
      "8\n",
      "mpg                     14\n",
      "cyl                      8\n",
      "displ                  455\n",
      "hp                     225\n",
      "weight                4425\n",
      "accel                   10\n",
      "yr                      70\n",
      "origin                  US\n",
      "name      pontiac catalina\n",
      "Name: 8, dtype: object\n",
      "9\n",
      "mpg                       15\n",
      "cyl                        8\n",
      "displ                    390\n",
      "hp                       190\n",
      "weight                  3850\n",
      "accel                    8.5\n",
      "yr                        70\n",
      "origin                    US\n",
      "name      amc ambassador dpl\n",
      "Name: 9, dtype: object\n",
      "10\n",
      "mpg                        15\n",
      "cyl                         8\n",
      "displ                     383\n",
      "hp                        170\n",
      "weight                   3563\n",
      "accel                      10\n",
      "yr                         70\n",
      "origin                     US\n",
      "name      dodge challenger se\n",
      "Name: 10, dtype: object\n",
      "11\n",
      "mpg                       14\n",
      "cyl                        8\n",
      "displ                    340\n",
      "hp                       160\n",
      "weight                  3609\n",
      "accel                      8\n",
      "yr                        70\n",
      "origin                    US\n",
      "name      plymouth 'cuda 340\n",
      "Name: 11, dtype: object\n",
      "12\n",
      "mpg                          15\n",
      "cyl                           8\n",
      "displ                       400\n",
      "hp                          150\n",
      "weight                     3761\n",
      "accel                       9.5\n",
      "yr                           70\n",
      "origin                       US\n",
      "name      chevrolet monte carlo\n",
      "Name: 12, dtype: object\n",
      "13\n",
      "mpg                            14\n",
      "cyl                             8\n",
      "displ                         455\n",
      "hp                            225\n",
      "weight                       3086\n",
      "accel                          10\n",
      "yr                             70\n",
      "origin                         US\n",
      "name      buick estate wagon (sw)\n",
      "Name: 13, dtype: object\n",
      "14\n",
      "mpg                          24\n",
      "cyl                           4\n",
      "displ                       113\n",
      "hp                           95\n",
      "weight                     2372\n",
      "accel                        15\n",
      "yr                           70\n",
      "origin                     Asia\n",
      "name      toyota corona mark ii\n",
      "Name: 14, dtype: object\n",
      "15\n",
      "mpg                    22\n",
      "cyl                     6\n",
      "displ                 198\n",
      "hp                     95\n",
      "weight               2833\n",
      "accel                15.5\n",
      "yr                     70\n",
      "origin                 US\n",
      "name      plymouth duster\n",
      "Name: 15, dtype: object\n",
      "16\n",
      "mpg               18\n",
      "cyl                6\n",
      "displ            199\n",
      "hp                97\n",
      "weight          2774\n",
      "accel           15.5\n",
      "yr                70\n",
      "origin            US\n",
      "name      amc hornet\n",
      "Name: 16, dtype: object\n",
      "17\n",
      "mpg                  21\n",
      "cyl                   6\n",
      "displ               200\n",
      "hp                   85\n",
      "weight             2587\n",
      "accel                16\n",
      "yr                   70\n",
      "origin               US\n",
      "name      ford maverick\n",
      "Name: 17, dtype: object\n",
      "18\n",
      "mpg                 27\n",
      "cyl                  4\n",
      "displ               97\n",
      "hp                  88\n",
      "weight            2130\n",
      "accel             14.5\n",
      "yr                  70\n",
      "origin            Asia\n",
      "name      datsun pl510\n",
      "Name: 18, dtype: object\n",
      "19\n",
      "mpg                                 26\n",
      "cyl                                  4\n",
      "displ                               97\n",
      "hp                                  46\n",
      "weight                            1835\n",
      "accel                             20.5\n",
      "yr                                  70\n",
      "origin                          Europe\n",
      "name      volkswagen 1131 deluxe sedan\n",
      "Name: 19, dtype: object\n",
      "20\n",
      "mpg                25\n",
      "cyl                 4\n",
      "displ             110\n",
      "hp                 87\n",
      "weight           2672\n",
      "accel            17.5\n",
      "yr                 70\n",
      "origin         Europe\n",
      "name      peugeot 504\n",
      "Name: 20, dtype: object\n",
      "21\n",
      "mpg                24\n",
      "cyl                 4\n",
      "displ             107\n",
      "hp                 90\n",
      "weight           2430\n",
      "accel            14.5\n",
      "yr                 70\n",
      "origin         Europe\n",
      "name      audi 100 ls\n",
      "Name: 21, dtype: object\n",
      "22\n",
      "mpg             25\n",
      "cyl              4\n",
      "displ          104\n",
      "hp              95\n",
      "weight        2375\n",
      "accel         17.5\n",
      "yr              70\n",
      "origin      Europe\n",
      "name      saab 99e\n",
      "Name: 22, dtype: object\n",
      "23\n",
      "mpg             26\n",
      "cyl              4\n",
      "displ          121\n",
      "hp             113\n",
      "weight        2234\n",
      "accel         12.5\n",
      "yr              70\n",
      "origin      Europe\n",
      "name      bmw 2002\n",
      "Name: 23, dtype: object\n",
      "24\n",
      "mpg                21\n",
      "cyl                 6\n",
      "displ             199\n",
      "hp                 90\n",
      "weight           2648\n",
      "accel              15\n",
      "yr                 70\n",
      "origin             US\n",
      "name      amc gremlin\n",
      "Name: 24, dtype: object\n",
      "25\n",
      "mpg              10\n",
      "cyl               8\n",
      "displ           360\n",
      "hp              215\n",
      "weight         4615\n",
      "accel            14\n",
      "yr               70\n",
      "origin           US\n",
      "name      ford f250\n",
      "Name: 25, dtype: object\n",
      "26\n",
      "mpg              10\n",
      "cyl               8\n",
      "displ           307\n",
      "hp              200\n",
      "weight         4376\n",
      "accel            15\n",
      "yr               70\n",
      "origin           US\n",
      "name      chevy c20\n",
      "Name: 26, dtype: object\n",
      "27\n",
      "mpg               11\n",
      "cyl                8\n",
      "displ            318\n",
      "hp               210\n",
      "weight          4382\n",
      "accel           13.5\n",
      "yr                70\n",
      "origin            US\n",
      "name      dodge d200\n",
      "Name: 27, dtype: object\n"
     ]
    }
   ],
   "source": [
    "for label,row in mpg.iterrows():\n",
    "    print(label)\n",
    "    print(row)"
   ]
  },
  {
   "cell_type": "markdown",
   "metadata": {},
   "source": [
    "Let's access specific column while iterating using for loop"
   ]
  },
  {
   "cell_type": "code",
   "execution_count": 11,
   "metadata": {
    "ExecuteTime": {
     "end_time": "2019-07-27T02:59:27.486419Z",
     "start_time": "2019-07-27T02:59:27.473644Z"
    }
   },
   "outputs": [
    {
     "name": "stdout",
     "output_type": "stream",
     "text": [
      "0:US:18.0\n",
      "1:US:15.0\n",
      "2:US:18.0\n",
      "3:US:16.0\n",
      "4:US:17.0\n",
      "5:US:15.0\n",
      "6:US:14.0\n",
      "7:US:14.0\n",
      "8:US:14.0\n",
      "9:US:15.0\n",
      "10:US:15.0\n",
      "11:US:14.0\n",
      "12:US:15.0\n",
      "13:US:14.0\n",
      "14:Asia:24.0\n",
      "15:US:22.0\n",
      "16:US:18.0\n",
      "17:US:21.0\n",
      "18:Asia:27.0\n",
      "19:Europe:26.0\n",
      "20:Europe:25.0\n",
      "21:Europe:24.0\n",
      "22:Europe:25.0\n",
      "23:Europe:26.0\n",
      "24:US:21.0\n",
      "25:US:10.0\n",
      "26:US:10.0\n",
      "27:US:11.0\n"
     ]
    }
   ],
   "source": [
    "for label, row in mpg.iterrows():\n",
    "    print(str(label) + \":\" + row['origin'] + \":\" + str(row['mpg']))"
   ]
  }
 ],
 "metadata": {
  "kernelspec": {
   "display_name": "Python 3",
   "language": "python",
   "name": "python3"
  },
  "language_info": {
   "codemirror_mode": {
    "name": "ipython",
    "version": 3
   },
   "file_extension": ".py",
   "mimetype": "text/x-python",
   "name": "python",
   "nbconvert_exporter": "python",
   "pygments_lexer": "ipython3",
   "version": "3.6.5"
  },
  "toc": {
   "base_numbering": 1,
   "nav_menu": {},
   "number_sections": true,
   "sideBar": true,
   "skip_h1_title": false,
   "title_cell": "Table of Contents",
   "title_sidebar": "Contents",
   "toc_cell": false,
   "toc_position": {},
   "toc_section_display": true,
   "toc_window_display": false
  },
  "varInspector": {
   "cols": {
    "lenName": 16,
    "lenType": 16,
    "lenVar": 40
   },
   "kernels_config": {
    "python": {
     "delete_cmd_postfix": "",
     "delete_cmd_prefix": "del ",
     "library": "var_list.py",
     "varRefreshCmd": "print(var_dic_list())"
    },
    "r": {
     "delete_cmd_postfix": ") ",
     "delete_cmd_prefix": "rm(",
     "library": "var_list.r",
     "varRefreshCmd": "cat(var_dic_list()) "
    }
   },
   "types_to_exclude": [
    "module",
    "function",
    "builtin_function_or_method",
    "instance",
    "_Feature"
   ],
   "window_display": false
  }
 },
 "nbformat": 4,
 "nbformat_minor": 2
}
